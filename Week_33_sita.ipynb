{
  "nbformat": 4,
  "nbformat_minor": 0,
  "metadata": {
    "colab": {
      "provenance": [],
      "authorship_tag": "ABX9TyPYl+Xx6JIGLprhyC8JFxr3",
      "include_colab_link": true
    },
    "kernelspec": {
      "name": "python3",
      "display_name": "Python 3"
    },
    "language_info": {
      "name": "python"
    }
  },
  "cells": [
    {
      "cell_type": "markdown",
      "metadata": {
        "id": "view-in-github",
        "colab_type": "text"
      },
      "source": [
        "<a href=\"https://colab.research.google.com/github/maha2806/Python_ai_ml_2025/blob/main/Week_33_sita.ipynb\" target=\"_parent\"><img src=\"https://colab.research.google.com/assets/colab-badge.svg\" alt=\"Open In Colab\"/></a>"
      ]
    },
    {
      "cell_type": "markdown",
      "source": [
        "# Assignment — Conditional Statements (No Loops)\n",
        "             \n",
        "1. **Simple `if`**:  \n",
        "   Store your age in a variable. If it’s 18 or above, print \"Adult\".\n",
        "\n",
        "2. **`if...else`**:  \n",
        "   Store your bank balance in a variable. If it’s greater than 1000, print \"Sufficient funds\", else print \"Low balance\".\n",
        "\n",
        "3. **`if...elif...else`**:  \n",
        "   Store a number in a variable.  \n",
        "   - If it’s positive, print \"Positive\".  \n",
        "   - If it’s zero, print \"Zero\".  \n",
        "   - Else, print \"Negative\".\n",
        "\n",
        "4. **Nested `if`**:  \n",
        "   Store your age and a boolean `has_license`. If age is 18 or above and `has_license` is True, print \"Can drive\".\n",
        "\n",
        "5. **Ternary Operator**:  \n",
        "   Store your score in a variable. Print `\"Pass\"` if it’s 50 or above, otherwise print `\"Fail\"`.\n",
        "\n",
        "6. **`and` / `or`**:  \n",
        "   Store two boolean variables `is_weekend` and `is_holiday`. If it’s weekend or holiday, print `\"Day off\"`.\n",
        "\n",
        "7. **`in` / `not in`**:  \n",
        "   Create a list of three colors. If `\"red\"` is in the list, print `\"Red available\"`. If `\"green\"` is not in the list, print `\"Green not available\"`.\n"
      ],
      "metadata": {
        "id": "Ij8mU69_HXPd"
      }
    },
    {
      "cell_type": "code",
      "execution_count": 1,
      "metadata": {
        "colab": {
          "base_uri": "https://localhost:8080/"
        },
        "id": "r8DMgQ5MHRGM",
        "outputId": "82c17874-62eb-4453-c163-abf4147f8ad4"
      },
      "outputs": [
        {
          "output_type": "stream",
          "name": "stdout",
          "text": [
            "Adult\n"
          ]
        }
      ],
      "source": [
        "# 1. Simple `if`\n",
        "# Store age and check if adult\n",
        "age = 20  # Change this value to test different cases\n",
        "if age >= 18:\n",
        "    print(\"Adult\")  # This will print if age is 18 or more"
      ]
    },
    {
      "cell_type": "code",
      "source": [
        "# 2. `if...else`\n",
        "# Check bank balance status\n",
        "bank_balance = 750  # Change this value to test different cases\n",
        "if bank_balance > 1000:\n",
        "    print(\"Sufficient funds\")  # Prints if balance > 1000\n",
        "else:\n",
        "    print(\"Low balance\")  # Prints otherwise\n"
      ],
      "metadata": {
        "colab": {
          "base_uri": "https://localhost:8080/"
        },
        "id": "0wETb36xHW0g",
        "outputId": "8044f19f-75bf-4a0a-9d5f-88aaa9a2a4f4"
      },
      "execution_count": 2,
      "outputs": [
        {
          "output_type": "stream",
          "name": "stdout",
          "text": [
            "Low balance\n"
          ]
        }
      ]
    },
    {
      "cell_type": "code",
      "source": [
        "# 3. `if...elif...else`\n",
        "# Check if number is positive, zero or negative\n",
        "number = -5  # Change this value to test different cases\n",
        "if number > 0:\n",
        "    print(\"Positive\")  # Prints if number > 0\n",
        "elif number == 0:\n",
        "    print(\"Zero\")  # Prints if number == 0\n",
        "else:\n",
        "    print(\"Negative\")  # Prints if number < 0\n"
      ],
      "metadata": {
        "colab": {
          "base_uri": "https://localhost:8080/"
        },
        "id": "7VHKA9BuIA4c",
        "outputId": "fda12742-9e72-46ab-a624-dceeabc8732c"
      },
      "execution_count": 3,
      "outputs": [
        {
          "output_type": "stream",
          "name": "stdout",
          "text": [
            "Negative\n"
          ]
        }
      ]
    },
    {
      "cell_type": "code",
      "source": [
        "# 4. Nested `if`\n",
        "# Check driving eligibility\n",
        "age = 19  # Change this value to test different cases\n",
        "has_license = True  # Change this to ,False to test\n",
        "if age >= 18:\n",
        "    if has_license:  # This only checks if age >= 18\n",
        "\n",
        "        print(\"Can drive\")  # Prints only if both conditions are True\n"
      ],
      "metadata": {
        "colab": {
          "base_uri": "https://localhost:8080/"
        },
        "id": "lgfX4QEXIAqr",
        "outputId": "497e9968-45b3-4190-f0e5-fe15d49ebf2f"
      },
      "execution_count": 4,
      "outputs": [
        {
          "output_type": "stream",
          "name": "stdout",
          "text": [
            "Can drive\n"
          ]
        }
      ]
    },
    {
      "cell_type": "code",
      "source": [
        "# 5. Ternary Operator\n",
        "# Check pass/fail status\n",
        "score = 65  # Change this value to test different cases\n",
        "result = \"Pass\" if score >= 50 else \"Fail\"  # Ternary operation\n",
        "print(result)  # Prints \"Pass\" if score >=50, else \"Fail\"\n"
      ],
      "metadata": {
        "colab": {
          "base_uri": "https://localhost:8080/"
        },
        "id": "WygoPzGzIAdu",
        "outputId": "bcb0a4ed-29d2-4dec-cfbf-246359dbfad9"
      },
      "execution_count": 5,
      "outputs": [
        {
          "output_type": "stream",
          "name": "stdout",
          "text": [
            "Pass\n"
          ]
        }
      ]
    },
    {
      "cell_type": "code",
      "source": [
        "# 6. `and` / `or`\n",
        "# Check if it's a day off\n",
        "is_weekend = True  # Change this to , False to test\n",
        "is_holiday = False  # Change this to True to test\n",
        "if is_weekend or is_holiday:  # Using 'or' operator\n",
        "    print(\"Day off\")  # Prints if either condition is True"
      ],
      "metadata": {
        "colab": {
          "base_uri": "https://localhost:8080/"
        },
        "id": "trKBwjqLIAQW",
        "outputId": "8a3fcfa7-a633-4857-f2dc-c1f76020b059"
      },
      "execution_count": 6,
      "outputs": [
        {
          "output_type": "stream",
          "name": "stdout",
          "text": [
            "Day off\n"
          ]
        }
      ]
    },
    {
      "cell_type": "code",
      "source": [
        "# 7. `in` / `not in`\n",
        "# Check color availability\n",
        "colors = [\"red\", \"blue\", \"yellow\"]  # Modify list to test different cases\n",
        "if \"red\" in colors:\n",
        "    print(\"Red available\")  # Prints if \"red\" is in the list\n",
        "if \"green\" not in colors:\n",
        "    print(\"Green not available\")  # Prints if \"green\" is not in the list"
      ],
      "metadata": {
        "colab": {
          "base_uri": "https://localhost:8080/"
        },
        "id": "9esh3e4vH_4u",
        "outputId": "97fe774a-8bc8-4759-8bb6-5d1b905a94cf"
      },
      "execution_count": 7,
      "outputs": [
        {
          "output_type": "stream",
          "name": "stdout",
          "text": [
            "Red available\n",
            "Green not available\n"
          ]
        }
      ]
    },
    {
      "cell_type": "markdown",
      "source": [
        "# Assignment — Loops + Conditional Statements\n",
        "\n",
        "\n",
        "\n",
        "1. Print all numbers from 1 to 20, but print \"Even\" if the number is even and \"Odd\" if the number is odd.\n",
        "2. Loop through a list of names and print only those that start with the letter \"A\".\n",
        "3. For numbers from 1 to 50, print \"Fizz\" if divisible by 3, \"Buzz\" if divisible by 5, and \"FizzBuzz\" if divisible by both.\n",
        "4. Given a dictionary of students and marks, print only the names of students who scored more than 75.\n",
        "5. Print all prime numbers between 1 and 30.\n",
        "6. Given a list of words, print those with length greater than 5 characters.\n",
        "7. Using nested loops, print a multiplication table from 1 to 5, but skip printing results that are greater than 15.\n",
        "\n",
        "\n"
      ],
      "metadata": {
        "id": "IW_TPXBzIWng"
      }
    },
    {
      "cell_type": "code",
      "source": [
        "#1. Print numbers 1-20, labeling even/odd\n",
        "print(\"\\n1. Even/Odd numbers from 1 to 20:\")\n",
        "for num in range(1, 21):\n",
        "    if num % 2 == 0:\n",
        "        print(f\"{num}: Even\")\n",
        "    else:\n",
        "        print(f\"{num}: Odd\")"
      ],
      "metadata": {
        "colab": {
          "base_uri": "https://localhost:8080/"
        },
        "id": "efr41Yx0H_eK",
        "outputId": "4335b95e-a1ae-4f0d-8114-bb42bbec388d"
      },
      "execution_count": 9,
      "outputs": [
        {
          "output_type": "stream",
          "name": "stdout",
          "text": [
            "\n",
            "1. Even/Odd numbers from 1 to 20:\n",
            "1: Odd\n",
            "2: Even\n",
            "3: Odd\n",
            "4: Even\n",
            "5: Odd\n",
            "6: Even\n",
            "7: Odd\n",
            "8: Even\n",
            "9: Odd\n",
            "10: Even\n",
            "11: Odd\n",
            "12: Even\n",
            "13: Odd\n",
            "14: Even\n",
            "15: Odd\n",
            "16: Even\n",
            "17: Odd\n",
            "18: Even\n",
            "19: Odd\n",
            "20: Even\n"
          ]
        }
      ]
    },
    {
      "cell_type": "code",
      "source": [
        "#2. Print names starting with \"A\"\n",
        "names = [\"Alice\", \"Bob\", \"Anna\", \"Charlie\", \"Alex\", \"David\"]\n",
        "print(\"\\n2. Names starting with 'A':\")\n",
        "for name in names:\n",
        "    if name.startswith('A'):\n",
        "        print(name)"
      ],
      "metadata": {
        "colab": {
          "base_uri": "https://localhost:8080/"
        },
        "id": "V7tlKH5rJRap",
        "outputId": "bf04cdcc-75ba-4cd0-e719-2a10866341c6"
      },
      "execution_count": 10,
      "outputs": [
        {
          "output_type": "stream",
          "name": "stdout",
          "text": [
            "\n",
            "2. Names starting with 'A':\n",
            "Alice\n",
            "Anna\n",
            "Alex\n"
          ]
        }
      ]
    },
    {
      "cell_type": "code",
      "source": [
        "# 3. FizzBuzz for numbers 1-50\n",
        "print(\"\\n3. FizzBuzz for numbers 1-50:\")\n",
        "for num in range(1, 51):\n",
        "    if num % 15 == 0:\n",
        "        print(\"FizzBuzz\")\n",
        "    elif num % 3 == 0:\n",
        "        print(\"Fizz\")\n",
        "    elif num % 5 == 0:\n",
        "        print(\"Buzz\")\n",
        "    else:\n",
        "        print(num)"
      ],
      "metadata": {
        "colab": {
          "base_uri": "https://localhost:8080/"
        },
        "id": "vjRSNdTmJRxD",
        "outputId": "68af3117-589e-48c6-ced0-a1900fd98810"
      },
      "execution_count": 11,
      "outputs": [
        {
          "output_type": "stream",
          "name": "stdout",
          "text": [
            "\n",
            "3. FizzBuzz for numbers 1-50:\n",
            "1\n",
            "2\n",
            "Fizz\n",
            "4\n",
            "Buzz\n",
            "Fizz\n",
            "7\n",
            "8\n",
            "Fizz\n",
            "Buzz\n",
            "11\n",
            "Fizz\n",
            "13\n",
            "14\n",
            "FizzBuzz\n",
            "16\n",
            "17\n",
            "Fizz\n",
            "19\n",
            "Buzz\n",
            "Fizz\n",
            "22\n",
            "23\n",
            "Fizz\n",
            "Buzz\n",
            "26\n",
            "Fizz\n",
            "28\n",
            "29\n",
            "FizzBuzz\n",
            "31\n",
            "32\n",
            "Fizz\n",
            "34\n",
            "Buzz\n",
            "Fizz\n",
            "37\n",
            "38\n",
            "Fizz\n",
            "Buzz\n",
            "41\n",
            "Fizz\n",
            "43\n",
            "44\n",
            "FizzBuzz\n",
            "46\n",
            "47\n",
            "Fizz\n",
            "49\n",
            "Buzz\n"
          ]
        }
      ]
    },
    {
      "cell_type": "code",
      "source": [
        "# 4. Print students with marks > 75\n",
        "students = {\"John\": 82, \"Emma\": 75, \"Michael\": 90, \"Sophia\": 68}\n",
        "print(\"\\n4. Students with marks > 75:\")\n",
        "for name, mark in students.items():\n",
        "    if mark > 75:\n",
        "        print(name)"
      ],
      "metadata": {
        "colab": {
          "base_uri": "https://localhost:8080/"
        },
        "id": "XYm56onqJSAU",
        "outputId": "aa7f471f-9b6c-4178-88b5-8049b368509e"
      },
      "execution_count": 12,
      "outputs": [
        {
          "output_type": "stream",
          "name": "stdout",
          "text": [
            "\n",
            "4. Students with marks > 75:\n",
            "John\n",
            "Michael\n"
          ]
        }
      ]
    },
    {
      "cell_type": "code",
      "source": [
        "# 5. Print prime numbers between 1-30\n",
        "print(\"\\n5. Prime numbers between 1-30:\")\n",
        "for num in range(2, 31):\n",
        "    is_prime = True\n",
        "    for i in range(2, int(num ** 0.5) + 1):\n",
        "        if num % i == 0:\n",
        "            is_prime = False\n",
        "            break\n",
        "    if is_prime:\n",
        "        print(num)"
      ],
      "metadata": {
        "colab": {
          "base_uri": "https://localhost:8080/"
        },
        "id": "yW2S9RcGJSRS",
        "outputId": "45a8185d-722b-41f2-b57e-917762a63dcc"
      },
      "execution_count": 13,
      "outputs": [
        {
          "output_type": "stream",
          "name": "stdout",
          "text": [
            "\n",
            "5. Prime numbers between 1-30:\n",
            "2\n",
            "3\n",
            "5\n",
            "7\n",
            "11\n",
            "13\n",
            "17\n",
            "19\n",
            "23\n",
            "29\n"
          ]
        }
      ]
    },
    {
      "cell_type": "code",
      "source": [
        "# 6. Print words with length > 5\n",
        "words = [\"apple\", \"banana\", \"cherry\", \"date\", \"elderberry\", \"fig\"]\n",
        "print(\"\\n6. Words with length > 5:\")\n",
        "for word in words:\n",
        "    if len(word) > 5:\n",
        "        print(word)"
      ],
      "metadata": {
        "colab": {
          "base_uri": "https://localhost:8080/"
        },
        "id": "2TxvMfG8JmCt",
        "outputId": "4d864dc7-1fdd-4ede-e6da-e6ab8c02ef12"
      },
      "execution_count": 14,
      "outputs": [
        {
          "output_type": "stream",
          "name": "stdout",
          "text": [
            "\n",
            "6. Words with length > 5:\n",
            "banana\n",
            "cherry\n",
            "elderberry\n"
          ]
        }
      ]
    },
    {
      "cell_type": "code",
      "source": [
        "# 7. Multiplication table (1-5) skipping results > 15\n",
        "print(\"\\n7. Multiplication table (1-5), skipping results > 15:\")\n",
        "for i in range(1, 6):\n",
        "    for j in range(1, 6):\n",
        "        product = i * j\n",
        "        if product <= 15:\n",
        "            print(f\"{i} x {j} = {product}\")\n",
        "        else:\n",
        "            continue  # This line is optional as the loop would continue anyway\n"
      ],
      "metadata": {
        "colab": {
          "base_uri": "https://localhost:8080/"
        },
        "id": "OTfGgkP2JmSk",
        "outputId": "0a2ae365-8306-46bd-fa46-a834e890c146"
      },
      "execution_count": 15,
      "outputs": [
        {
          "output_type": "stream",
          "name": "stdout",
          "text": [
            "\n",
            "7. Multiplication table (1-5), skipping results > 15:\n",
            "1 x 1 = 1\n",
            "1 x 2 = 2\n",
            "1 x 3 = 3\n",
            "1 x 4 = 4\n",
            "1 x 5 = 5\n",
            "2 x 1 = 2\n",
            "2 x 2 = 4\n",
            "2 x 3 = 6\n",
            "2 x 4 = 8\n",
            "2 x 5 = 10\n",
            "3 x 1 = 3\n",
            "3 x 2 = 6\n",
            "3 x 3 = 9\n",
            "3 x 4 = 12\n",
            "3 x 5 = 15\n",
            "4 x 1 = 4\n",
            "4 x 2 = 8\n",
            "4 x 3 = 12\n",
            "5 x 1 = 5\n",
            "5 x 2 = 10\n",
            "5 x 3 = 15\n"
          ]
        }
      ]
    },
    {
      "cell_type": "markdown",
      "source": [
        "# Assignment — Python Dictionaries\n",
        "1. Create a dictionary called student with the following key-value pairs:\n",
        "\n",
        "\"name\" → \"Alice\"\n",
        "\"age\" → 22\n",
        "\"courses\" → [\"Math\", \"Physics\", \"Chemistry\"]\n",
        "2. Add a new key \"email\" with value \"alice@example.com\".\n",
        "\n",
        "3. Update the \"age\" to 23.\n",
        "\n",
        "4. Remove the \"email\" key using pop() and store the removed value in a variable.\n",
        "\n",
        "5. Access the \"name\" value using [].\n",
        "\n",
        "6. Access the \"phone\" value using .get() with a default message \"Not available\".\n",
        "\n",
        "7. Create a dictionary comprehension that maps numbers from 1 to 5 to their squares.\n",
        "\n",
        "8. Nested Dictionary Task:\n",
        "Create a dictionary called company where each key is an employee ID (e.g., \"emp1\", \"emp2\") and the value is another dictionary with keys \"name\" and \"role\".\n",
        "Add at least two employees.\n",
        "\n",
        "9. Convert the dictionary’s .items() view into a list of tuples.\n",
        "\n",
        "10. Convert the list of tuples back into a dictionary.\n",
        "\n"
      ],
      "metadata": {
        "id": "HCsWlIOnKoYs"
      }
    },
    {
      "cell_type": "code",
      "source": [
        "# 1. Create student dictionary\n",
        "student = {\n",
        "    \"name\": \"Alice\",\n",
        "    \"age\": 22,\n",
        "    \"courses\": [\"Math\", \"Physics\", \"Chemistry\"]\n",
        "}"
      ],
      "metadata": {
        "id": "c4h-qYIlLMaS"
      },
      "execution_count": 17,
      "outputs": []
    },
    {
      "cell_type": "code",
      "source": [
        "# 2. Add new key \"email\"\n",
        "student[\"email\"] = \"alice@example.com\"\n",
        "print(\"After adding email:\", student)"
      ],
      "metadata": {
        "colab": {
          "base_uri": "https://localhost:8080/"
        },
        "id": "H3y9Iz42L0rQ",
        "outputId": "08ed5272-0045-414b-ee97-082c864622cd"
      },
      "execution_count": 18,
      "outputs": [
        {
          "output_type": "stream",
          "name": "stdout",
          "text": [
            "After adding email: {'name': 'Alice', 'age': 22, 'courses': ['Math', 'Physics', 'Chemistry'], 'email': 'alice@example.com'}\n"
          ]
        }
      ]
    },
    {
      "cell_type": "code",
      "source": [
        "# 3. Update age to 23\n",
        "student[\"age\"] = 23\n",
        "print(\"After updating age:\", student)"
      ],
      "metadata": {
        "colab": {
          "base_uri": "https://localhost:8080/"
        },
        "id": "YbM2P0qpL0bY",
        "outputId": "a6dd3a79-5065-4b72-8ca2-cb0f77f894e0"
      },
      "execution_count": 19,
      "outputs": [
        {
          "output_type": "stream",
          "name": "stdout",
          "text": [
            "After updating age: {'name': 'Alice', 'age': 23, 'courses': ['Math', 'Physics', 'Chemistry'], 'email': 'alice@example.com'}\n"
          ]
        }
      ]
    },
    {
      "cell_type": "code",
      "source": [
        "# 4. Remove email using pop() and store value\n",
        "removed_email = student.pop(\"email\")\n",
        "print(\"Removed email:\", removed_email)\n",
        "print(\"After removing email:\", student)"
      ],
      "metadata": {
        "colab": {
          "base_uri": "https://localhost:8080/"
        },
        "id": "QIkeGJT0L0M3",
        "outputId": "7bdc6e8a-5b0c-44f2-9225-0c63f2557d67"
      },
      "execution_count": 20,
      "outputs": [
        {
          "output_type": "stream",
          "name": "stdout",
          "text": [
            "Removed email: alice@example.com\n",
            "After removing email: {'name': 'Alice', 'age': 23, 'courses': ['Math', 'Physics', 'Chemistry']}\n"
          ]
        }
      ]
    },
    {
      "cell_type": "code",
      "source": [
        "# 5. Access name using [] notation\n",
        "name = student[\"name\"]\n",
        "print(\"Name accessed with []:\", name)"
      ],
      "metadata": {
        "colab": {
          "base_uri": "https://localhost:8080/"
        },
        "id": "cLj_fFaJLz_d",
        "outputId": "544b630c-3e89-4610-e7f4-2e71f2dd5597"
      },
      "execution_count": 21,
      "outputs": [
        {
          "output_type": "stream",
          "name": "stdout",
          "text": [
            "Name accessed with []: Alice\n"
          ]
        }
      ]
    },
    {
      "cell_type": "code",
      "source": [
        "# 6. Access phone with .get() and default\n",
        "phone = student.get(\"phone\", \"Not available\")\n",
        "print(\"Phone number:\", phone)"
      ],
      "metadata": {
        "colab": {
          "base_uri": "https://localhost:8080/"
        },
        "id": "tcINeOUKLzyr",
        "outputId": "0adcbcf5-8c10-4b36-b60e-1d37da2496c8"
      },
      "execution_count": 22,
      "outputs": [
        {
          "output_type": "stream",
          "name": "stdout",
          "text": [
            "Phone number: Not available\n"
          ]
        }
      ]
    },
    {
      "cell_type": "code",
      "source": [
        "# 7. Dictionary comprehension for squares\n",
        "squares = {num: num**2 for num in range(1, 6)}\n",
        "print(\"Number squares:\", squares)"
      ],
      "metadata": {
        "colab": {
          "base_uri": "https://localhost:8080/"
        },
        "id": "4_My-4XSLznC",
        "outputId": "4223c440-b5b1-4dd5-d27f-052494d9d9ce"
      },
      "execution_count": 23,
      "outputs": [
        {
          "output_type": "stream",
          "name": "stdout",
          "text": [
            "Number squares: {1: 1, 2: 4, 3: 9, 4: 16, 5: 25}\n"
          ]
        }
      ]
    },
    {
      "cell_type": "code",
      "source": [
        "# 8. Nested dictionary for company\n",
        "company = {\n",
        "    \"emp1\": {\n",
        "        \"name\": \"John Doe\",\n",
        "        \"role\": \"Developer\"\n",
        "    },\n",
        "    \"emp2\": {\n",
        "        \"name\": \"Jane Smith\",\n",
        "        \"role\": \"Manager\"\n",
        "    }\n",
        "}\n",
        "print(\"Company employees:\", company)"
      ],
      "metadata": {
        "colab": {
          "base_uri": "https://localhost:8080/"
        },
        "id": "Xxr8DGk_Lzag",
        "outputId": "b157e011-c8ed-49d8-c261-30df6581a5d6"
      },
      "execution_count": 24,
      "outputs": [
        {
          "output_type": "stream",
          "name": "stdout",
          "text": [
            "Company employees: {'emp1': {'name': 'John Doe', 'role': 'Developer'}, 'emp2': {'name': 'Jane Smith', 'role': 'Manager'}}\n"
          ]
        }
      ]
    },
    {
      "cell_type": "code",
      "source": [
        "# 9. Convert dictionary items to list of tuples\n",
        "items_list = list(student.items())\n",
        "print(\"Items as list of tuples:\", items_list)\n"
      ],
      "metadata": {
        "colab": {
          "base_uri": "https://localhost:8080/"
        },
        "id": "5luA-xILLzMo",
        "outputId": "020898c9-077c-4032-dd8a-18982f6070c9"
      },
      "execution_count": 27,
      "outputs": [
        {
          "output_type": "stream",
          "name": "stdout",
          "text": [
            "Items as list of tuples: [('name', 'Alice'), ('age', 23), ('courses', ['Math', 'Physics', 'Chemistry'])]\n"
          ]
        }
      ]
    },
    {
      "cell_type": "code",
      "source": [
        "# 10. Convert back to dictionary\n",
        "new_dict = dict(items_list)\n",
        "print(\"Converted back to dictionary:\", new_dict)"
      ],
      "metadata": {
        "colab": {
          "base_uri": "https://localhost:8080/"
        },
        "id": "7dWq54hTLy_b",
        "outputId": "6af98ce4-c854-41b1-8834-65b2e7cdf216"
      },
      "execution_count": 28,
      "outputs": [
        {
          "output_type": "stream",
          "name": "stdout",
          "text": [
            "Converted back to dictionary: {'name': 'Alice', 'age': 23, 'courses': ['Math', 'Physics', 'Chemistry']}\n"
          ]
        }
      ]
    },
    {
      "cell_type": "markdown",
      "source": [],
      "metadata": {
        "id": "gCrIKwoZMxsT"
      }
    },
    {
      "cell_type": "code",
      "source": [],
      "metadata": {
        "id": "Q2fti3qFLyrd"
      },
      "execution_count": null,
      "outputs": []
    }
  ]
}